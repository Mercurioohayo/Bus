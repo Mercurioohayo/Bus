{
 "cells": [
  {
   "cell_type": "markdown",
   "id": "9799b5fb",
   "metadata": {},
   "source": [
    "# Automação Web: Buscador de Preços"
   ]
  },
  {
   "cell_type": "markdown",
   "id": "10888efd",
   "metadata": {},
   "source": [
    "## Entendendo a Situação"
   ]
  },
  {
   "cell_type": "markdown",
   "id": "a018e3e8",
   "metadata": {},
   "source": [
    "Como Analista de Compras sua principal tarefa consiste em identificar qual fornecedor oferece o melhor preço para cada um dos produtos de sua empresa.\n",
    "\n",
    "Diariamente, você busca no Google Shopping e no Buscapé os preços dos seguintes produtos: iPhone 12 64GB e Placa de Vídeo RTX 3060.\n",
    "\n",
    "A fim de tornar sua busca mais refinada, você usa os critérios definidos na planilha `produtos.xlsx`, a qual especifica os preços mínimo e máximo para cada produto bem como os termos banidos da busca.\n",
    "\n",
    "Por fim, você sumariza os resultados de sua busca numa tabela que é enviada por e-mail para o seguinte endereço: diegotorrescoder@gmail.com."
   ]
  },
  {
   "cell_type": "markdown",
   "id": "979be701",
   "metadata": {},
   "source": [
    "## Divisão do Problema"
   ]
  },
  {
   "cell_type": "markdown",
   "id": "fe6731f3",
   "metadata": {},
   "source": [
    "Para automatizar este processo, vamos adotar o seguinte passo a passo:\n",
    "\n",
    "- Criar um navegador\n",
    "- Importar a base de dados\n",
    "- Visualizar a base de dados\n",
    "- Procurar cada produto no Google Shopping\n",
    "    - Verificar se o produto do anúncio possui todos os termos da busca\n",
    "    - Verificar se o produto do anúncio não contém os termos banidos\n",
    "    - Verificar se o produto do anúncio está dentro da faixa de preços admitida\n",
    "- Procurar cada produto no Buscapé\n",
    "- Procurar cada produto no Google Shopping\n",
    "    - Verificar se o produto do anúncio possui todos os termos da busca\n",
    "    - Verificar se o produto do anúncio não contém os termos banidos\n",
    "    - Verificar se o produto do anúncio está dentro da faixa de preços admitida\n",
    "- Salvar as ofertas em um dataframe\n",
    "- Exportar o dataframe como uma planilha do Excel\n",
    "- Enviar por e-mail os resultados    "
   ]
  },
  {
   "cell_type": "markdown",
   "id": "2e328dac",
   "metadata": {},
   "source": [
    "### Importações"
   ]
  },
  {
   "cell_type": "code",
   "execution_count": 1,
   "id": "f45f640f",
   "metadata": {},
   "outputs": [],
   "source": [
    "# Importa o webdriver a partir da biblioteca selenium\n",
    "from selenium import webdriver\n",
    "\n",
    "# Importa a classe By\n",
    "from selenium.webdriver.common.by import By\n",
    "\n",
    "# Importa a classe Keys\n",
    "from selenium.webdriver.common.keys import Keys\n",
    "\n",
    "# Importa o gerenciador de webdriver do Google Chrome\n",
    "from webdriver_manager.chrome import ChromeDriverManager\n",
    "\n",
    "# Importa a classe Service\n",
    "from selenium.webdriver.chrome.service import Service\n",
    "\n",
    "# Importa a função WebDriverWait\n",
    "from selenium.webdriver.support.ui import WebDriverWait\n",
    "\n",
    "# Importa a função expected_conditions\n",
    "from selenium.webdriver.support import expected_conditions as EC\n",
    "\n",
    "# Importa o pandas com o apelido pd\n",
    "import pandas as pd"
   ]
  },
  {
   "cell_type": "markdown",
   "id": "d134f4ac",
   "metadata": {},
   "source": [
    "### Criar um Navegador"
   ]
  },
  {
   "cell_type": "code",
   "execution_count": 2,
   "id": "f0c0ade6",
   "metadata": {},
   "outputs": [],
   "source": [
    "# Faz o download do webdriver do Google Chrome\n",
    "servico = Service(ChromeDriverManager().install())\n",
    "\n",
    "# Cria um navegador do Google Chrome\n",
    "navegador = webdriver.Chrome(service=servico)"
   ]
  },
  {
   "cell_type": "markdown",
   "id": "7430d074",
   "metadata": {},
   "source": [
    "### Importar e Visualizar a Base de Dados"
   ]
  },
  {
   "cell_type": "code",
   "execution_count": 3,
   "id": "ebc59890",
   "metadata": {},
   "outputs": [
    {
     "data": {
      "text/html": [
       "<div>\n",
       "<style scoped>\n",
       "    .dataframe tbody tr th:only-of-type {\n",
       "        vertical-align: middle;\n",
       "    }\n",
       "\n",
       "    .dataframe tbody tr th {\n",
       "        vertical-align: top;\n",
       "    }\n",
       "\n",
       "    .dataframe thead th {\n",
       "        text-align: right;\n",
       "    }\n",
       "</style>\n",
       "<table border=\"1\" class=\"dataframe\">\n",
       "  <thead>\n",
       "    <tr style=\"text-align: right;\">\n",
       "      <th></th>\n",
       "      <th>Nome</th>\n",
       "      <th>Termos banidos</th>\n",
       "      <th>Preço mínimo</th>\n",
       "      <th>Preço máximo</th>\n",
       "    </tr>\n",
       "  </thead>\n",
       "  <tbody>\n",
       "    <tr>\n",
       "      <th>0</th>\n",
       "      <td>iphone 12 64gb</td>\n",
       "      <td>mini watch usado seminovo</td>\n",
       "      <td>3000</td>\n",
       "      <td>3500</td>\n",
       "    </tr>\n",
       "    <tr>\n",
       "      <th>1</th>\n",
       "      <td>rtx 3060</td>\n",
       "      <td>zota galax</td>\n",
       "      <td>4000</td>\n",
       "      <td>4500</td>\n",
       "    </tr>\n",
       "  </tbody>\n",
       "</table>\n",
       "</div>"
      ],
      "text/plain": [
       "             Nome             Termos banidos  Preço mínimo  Preço máximo\n",
       "0  iphone 12 64gb  mini watch usado seminovo          3000          3500\n",
       "1        rtx 3060                 zota galax          4000          4500"
      ]
     },
     "metadata": {},
     "output_type": "display_data"
    }
   ],
   "source": [
    "# Lê a base de dados em Excel\n",
    "df_produtos = pd.read_excel('buscas.xlsx')\n",
    "\n",
    "# Exibe a base de dados\n",
    "display(df_produtos)"
   ]
  },
  {
   "cell_type": "markdown",
   "id": "4e17d132",
   "metadata": {},
   "source": [
    "### Funções Auxiliares"
   ]
  },
  {
   "cell_type": "markdown",
   "id": "3ac46b06",
   "metadata": {},
   "source": [
    "A função a seguir retorna `True` caso o nome do produto anunciado possua pelo menos um dos termos banidos:"
   ]
  },
  {
   "cell_type": "code",
   "execution_count": 4,
   "id": "2d878315",
   "metadata": {},
   "outputs": [],
   "source": [
    "def possui_termos_banidos(lista_termos_banidos, titulo_anuncio):\n",
    "    # Variável auxiliar inicializada com False\n",
    "    possui_termos_banidos = False\n",
    "\n",
    "    # Percorre os elementos da lista de termos banidos\n",
    "    for termo in lista_termos_banidos:\n",
    "        # Verifica se o nome do produto anunciado contém pelo menos um termo banido\n",
    "        if termo in titulo_anuncio:\n",
    "            # Atualiza o valor da variável auxiliar\n",
    "            possui_termos_banidos = True\n",
    "            \n",
    "    return possui_termos_banidos"
   ]
  },
  {
   "cell_type": "markdown",
   "id": "36470f7a",
   "metadata": {},
   "source": [
    "A função a seguir retorna `True` caso o nome do produto anunciado possua todos os termos da busca:"
   ]
  },
  {
   "cell_type": "code",
   "execution_count": 5,
   "id": "18b3fbc1",
   "metadata": {},
   "outputs": [],
   "source": [
    "def possui_todos_termos(lista_termos_busca, titulo_anuncio):\n",
    "    # Variável auxiliar inicializada com True\n",
    "    possui_todos_termos_busca = True\n",
    "\n",
    "    # Percorre a lista de termos da busca\n",
    "    for termo in lista_termos_busca:\n",
    "        # Verifica se o termo desta iteração não está contido no nome\n",
    "        if termo not in titulo_anuncio:\n",
    "            # Atualiza a variável auxiliar\n",
    "            possui_todos_termos_busca = False\n",
    "            \n",
    "    return possui_todos_termos_busca"
   ]
  },
  {
   "cell_type": "markdown",
   "id": "11fca621",
   "metadata": {},
   "source": [
    "### Procurar o Produto no Google Shopping"
   ]
  },
  {
   "cell_type": "markdown",
   "id": "491dbf2d",
   "metadata": {},
   "source": [
    "Esta função faz a busca de ofertas no **Google Shopping**:"
   ]
  },
  {
   "cell_type": "code",
   "execution_count": null,
   "id": "8b90fea2",
   "metadata": {},
   "outputs": [],
   "source": [
    "def buscar_ofertas_google_shopping(navegador, produto, termos_banidos, preco_min, preco_max):\n",
    "    '''Faz a busca por ofertas no Google Shopping.'''\n",
    "    \n",
    "    # Coloca todas as letras do nome do produto em minúsculas\n",
    "    nome_produto = produto.lower()\n",
    "\n",
    "    # Lista com as palavras do nome do produto\n",
    "    lista_termos_busca = nome_produto.split(' ')\n",
    "\n",
    "    # Coloca todas as letras dos termos de busca em minúsculas\n",
    "    termos_banidos = termos_banidos.lower()\n",
    "\n",
    "    # Lista de termos banidos\n",
    "    lista_termos_banidos = termos_banidos.split(' ')\n",
    "    \n",
    "    # Preço mínimo\n",
    "    preco_min = float(preco_min)\n",
    "\n",
    "    # Preço máximo\n",
    "    preco_max = float(preco_max)\n",
    "    \n",
    "    # Lista com as ofertas encontradas (lista de tuplas)\n",
    "    ofertas_encontradas = []\n",
    "    \n",
    "    # Acessar a página do Google\n",
    "    navegador.get('https://www.google.com.br/')\n",
    "\n",
    "    # Localiza o campo de buscas do Google\n",
    "    campo_busca = navegador.find_element(\n",
    "        By.XPATH, \n",
    "        '/html/body/div[1]/div[3]/form/div[1]/div[1]/div[1]/div/div[2]/input'\n",
    "    )\n",
    "\n",
    "    # Digitar nome do produto no campo de buscas\n",
    "    campo_busca.send_keys(nome_produto)\n",
    "\n",
    "    # Dá enter para buscar\n",
    "    campo_busca.send_keys(Keys.RETURN)\n",
    "\n",
    "    # Seleciona todos os elementos da barra de links\n",
    "    links = navegador.find_elements(By.CLASS_NAME, 'hdtb-mitem')\n",
    "\n",
    "    # Percorre a lista de links da barra de navegação\n",
    "    for link in links:\n",
    "        # Verifica se o texto especificado está dentro do item\n",
    "        if 'Shopping' in link.text:\n",
    "            # Clica no link\n",
    "            link.click()\n",
    "\n",
    "            # Interrompe o laço de repetição\n",
    "            break\n",
    "\n",
    "    # Obter as informações do produto\n",
    "    # Seleciona todos os anúncios que possuem a classe especificada\n",
    "    anuncios = navegador.find_elements(By.CLASS_NAME, 'i0X6df')\n",
    "\n",
    "    # Percorre a lista de anúncios\n",
    "    for anuncio in anuncios:\n",
    "        # Obtém o nome do produto\n",
    "        nome_anuncio = anuncio.find_element(By.CLASS_NAME, 'tAxDx').text\n",
    "\n",
    "        # Coloca todas as letras do nome do produto em minúsculas\n",
    "        nome_anuncio = nome_anuncio.lower()\n",
    "        \n",
    "        # Chama a função para verificar se o nome do produto contém algum termo banido\n",
    "        tem_termos_banidos = possui_termos_banidos(lista_termos_banidos, nome_anuncio)\n",
    "\n",
    "        # Chama a função para verificar se o nome do produto contém todos os termos da busca\n",
    "        tem_todos_termos_busca = possui_todos_termos()\n",
    "\n",
    "        # Verifica se o produto do anúncio atende a estas condições:\n",
    "        # 1. O nome do produto no anúncio NÃO possui qualquer dos termos banidos\n",
    "        # 2. O nome do produto possui todos os termos da busca\n",
    "        if not tem_termos_banidos and tem_todos_termos_busca:\n",
    "            # Obtém o preço do produto\n",
    "            preco_anuncio = anuncio.find_element(By.CLASS_NAME, 'a8Pemb').text\n",
    "\n",
    "            # Trata a string com o preço do produto\n",
    "            # 1. Remove o R$\n",
    "            # 2. Remove espaços em branco\n",
    "            # 3. Remove os pontos\n",
    "            # 4. Troca a vírgula pelo ponto\n",
    "            preco_anuncio = preco_anuncio.replace('R$', '').replace(' ', '').replace('.', '').replace(',', '.')\n",
    "\n",
    "            # Converte a string num float\n",
    "            preco_anuncio = float(preco_anuncio)\n",
    "\n",
    "            # Verifica se o preço no anúncio está no intervalo de preço mínimo e máximo\n",
    "            if preco_anuncio >= preco_min and preco_anuncio <= preco_max:\n",
    "                # Elemento de referência (filho) para localizar o link\n",
    "                elemento_filho = anuncio.find_element(By.CLASS_NAME, 'KoNVE')\n",
    "\n",
    "                # Elemento que contém o link\n",
    "                elemento_pai = elemento_filho.find_element(By.XPATH, '..')\n",
    "\n",
    "                # Link do produto\n",
    "                link_anuncio = elemento_pai.get_attribute('href')\n",
    "\n",
    "                # Acrescenta uma tupla à lista de ofertas encontradas\n",
    "                ofertas_encontradas.append((nome_anuncio, preco_anuncio, link_anuncio))\n",
    "\n",
    "    # Retorna a lista de ofertas\n",
    "    return ofertas_encontradas"
   ]
  },
  {
   "cell_type": "markdown",
   "id": "2d912d99",
   "metadata": {},
   "source": [
    "### Procurar o Produto no Buscapé"
   ]
  },
  {
   "cell_type": "markdown",
   "id": "4161e3d6",
   "metadata": {},
   "source": [
    "A função a seguir servirá para buscar informações no **Buscapé**:"
   ]
  },
  {
   "cell_type": "code",
   "execution_count": 13,
   "id": "fd16a873",
   "metadata": {},
   "outputs": [],
   "source": [
    "def buscar_ofertas_buscape(navegador, produto, termos_banidos, preco_min, preco_max ):\n",
    "    '''Faz uma busca por ofertas no Buscapé'''    \n",
    "    # Coloca todas as letras do nome do produto em minúsculas\n",
    "    nome_produto = produto.lower()\n",
    "    \n",
    "    # Obtém todos os termos da busca, dividindo o texto da busca com base nos espaços\n",
    "    lista_termos_busca = nome_produto.split(' ')\n",
    "    \n",
    "    # Coloca todas as letras dos termos banidos em minúsculas\n",
    "    termos_banidos = termos_banidos.lower()\n",
    "    \n",
    "    # Obtém todos os termos banidos\n",
    "    lista_termos_banidos = termos_banidos.split(' ')\n",
    "    \n",
    "    # Preço mínimo\n",
    "    preco_min = float(preco_min)\n",
    "\n",
    "    # Preço máximo\n",
    "    preco_max = float(preco_max)\n",
    "    \n",
    "    # Lista de ofertas encontradas\n",
    "    ofertas_encontradas = []\n",
    "\n",
    "    # Acessar o site do Buscapé para fazer uma busca\n",
    "    navegador.get('https://www.buscape.com.br/')\n",
    "    \n",
    "    # Localiza o campo de busca pelo XPATH\n",
    "    campo_busca = navegador.find_element(\n",
    "        By.XPATH, \n",
    "        '//*[@id=\"new-header\"]/div[1]/div/div/div[3]/div/div/div[2]/div/div[1]/input'\n",
    "    )\n",
    "    \n",
    "    # Digita a busca no campo de buscas e faz a pesquisa\n",
    "    campo_busca.send_keys(nome_produto, Keys.RETURN)\n",
    "\n",
    "    # Aguarda no máximo 30s para que o elemento seja localizado\n",
    "    elemento = WebDriverWait(navegador, 30).until(\n",
    "        EC.presence_of_element_located((By.CLASS_NAME, 'SearchHeader_titleSection__5SEk9'))\n",
    "    )\n",
    "\n",
    "    # Localiza todos os anúncios\n",
    "    anuncios = navegador.find_elements(By.CLASS_NAME, 'SearchCard_ProductCard_Inner__7JhKb')\n",
    "    \n",
    "    # Percorre a lista de anúncios\n",
    "    for anuncio in anuncios:\n",
    "        # Obtém o nome do produto\n",
    "        nome_anuncio = anuncio.find_element(By.CLASS_NAME, 'SearchCard_ProductCard_Name__ZaO5o').text\n",
    "\n",
    "        # Coloca as palavras do nome do produto em minúsculas\n",
    "        nome_anuncio = nome_produto.lower()\n",
    "        print(nome_anuncio)\n",
    "        \n",
    "        # Chama a função para verificar se o nome do produto possui termos banidos\n",
    "        tem_termos_banidos = possui_termos_banidos(lista_termos_banidos, nome_anuncio)\n",
    "\n",
    "        # Chama a função para verificar se o nome do produto possui todos os termos da busca\n",
    "        tem_todos_termos_busca = possui_todos_termos(lista_termos_busca, nome_anuncio)\n",
    "\n",
    "        if not tem_termos_banidos and tem_todos_termos_busca:\n",
    "            # Obtém o preço do produto\n",
    "            preco_anuncio = anuncio.find_element(By.CLASS_NAME, 'Text_MobileHeadingS__Zxam2').text\n",
    "\n",
    "            # Trata a string com o preço do produto\n",
    "            # 1. Remove o R$\n",
    "            # 2. Remove espaços em branco\n",
    "            # 3. Remove os pontos\n",
    "            # 4. Troca a vírgula pelo ponto\n",
    "            preco_anuncio = preco_anuncio.replace('R$', '').replace(' ', '').replace('.', '').replace(',', '.')\n",
    "\n",
    "            # Converte a string num float\n",
    "            preco_anuncio = float(preco_anuncio)\n",
    "            \n",
    "            # Verifica se o preço no anúncio está no intervalo de preço mínimo e máximo\n",
    "            if preco_anuncio >= preco_min and preco_anuncio <= preco_max:               \n",
    "                # Obtém o atributo href do link\n",
    "                link_anuncio = anuncio.get_attribute('href')\n",
    "\n",
    "                # Acrescenta uma tupla à lista de ofertas\n",
    "                ofertas_encontradas.append((nome_anuncio, preco_anuncio, link_anuncio))\n",
    "                \n",
    "    # Retorna a lista de ofertas encontradas\n",
    "    return ofertas_encontradas"
   ]
  },
  {
   "cell_type": "markdown",
   "id": "dff58b8f",
   "metadata": {},
   "source": [
    "A partir deste ponto, vamos obter as ofertas no Google Shopping e armazená-las num dataframe:"
   ]
  },
  {
   "cell_type": "code",
   "execution_count": 14,
   "id": "21d39ffe",
   "metadata": {},
   "outputs": [
    {
     "name": "stdout",
     "output_type": "stream",
     "text": [
      "iphone 12 64gb\n",
      "iphone 12 64gb\n",
      "iphone 12 64gb\n",
      "iphone 12 64gb\n"
     ]
    },
    {
     "data": {
      "text/html": [
       "<div>\n",
       "<style scoped>\n",
       "    .dataframe tbody tr th:only-of-type {\n",
       "        vertical-align: middle;\n",
       "    }\n",
       "\n",
       "    .dataframe tbody tr th {\n",
       "        vertical-align: top;\n",
       "    }\n",
       "\n",
       "    .dataframe thead th {\n",
       "        text-align: right;\n",
       "    }\n",
       "</style>\n",
       "<table border=\"1\" class=\"dataframe\">\n",
       "  <thead>\n",
       "    <tr style=\"text-align: right;\">\n",
       "      <th></th>\n",
       "      <th>Produto</th>\n",
       "      <th>Preço (R$)</th>\n",
       "      <th>Link Oferta</th>\n",
       "    </tr>\n",
       "  </thead>\n",
       "  <tbody>\n",
       "    <tr>\n",
       "      <th>0</th>\n",
       "      <td>iphone 12 64gb</td>\n",
       "      <td>3781.00</td>\n",
       "      <td>https://www.buscape.com.br/celular/smartphone-...</td>\n",
       "    </tr>\n",
       "    <tr>\n",
       "      <th>1</th>\n",
       "      <td>iphone 12 64gb</td>\n",
       "      <td>3779.10</td>\n",
       "      <td>https://www.buscape.com.br/celular/smartphone-...</td>\n",
       "    </tr>\n",
       "    <tr>\n",
       "      <th>2</th>\n",
       "      <td>iphone 12 64gb</td>\n",
       "      <td>3193.52</td>\n",
       "      <td>https://www.buscape.com.br/celular/smartphone-...</td>\n",
       "    </tr>\n",
       "  </tbody>\n",
       "</table>\n",
       "</div>"
      ],
      "text/plain": [
       "          Produto  Preço (R$)  \\\n",
       "0  iphone 12 64gb     3781.00   \n",
       "1  iphone 12 64gb     3779.10   \n",
       "2  iphone 12 64gb     3193.52   \n",
       "\n",
       "                                         Link Oferta  \n",
       "0  https://www.buscape.com.br/celular/smartphone-...  \n",
       "1  https://www.buscape.com.br/celular/smartphone-...  \n",
       "2  https://www.buscape.com.br/celular/smartphone-...  "
      ]
     },
     "execution_count": 14,
     "metadata": {},
     "output_type": "execute_result"
    }
   ],
   "source": [
    "# Nome do produto\n",
    "nome_produto = 'iphone 12 64gb'\n",
    "\n",
    "# Termos banidos\n",
    "termos_banidos = 'mini watch usado seminovo'\n",
    "\n",
    "# Preço mínimo\n",
    "preco_min = 3000\n",
    "\n",
    "# Preço máximo\n",
    "preco_max = 3800\n",
    "\n",
    "# Exibe as ofertas encontradas\n",
    "# ofertas = buscar_ofertas_google_shopping(navegador, nome_produto, termos_banidos, preco_min, preco_max)\n",
    "ofertas = buscar_ofertas_buscape(navegador, nome_produto, termos_banidos, preco_min, preco_max)\n",
    "\n",
    "# Cria um dataframe com as ofertas encontradas\n",
    "df_ofertas = pd.DataFrame.from_records(ofertas, columns=['Produto', 'Preço (R$)', 'Link Oferta'])\n",
    "\n",
    "# Exibe o dataframe\n",
    "df_ofertas"
   ]
  }
 ],
 "metadata": {
  "kernelspec": {
   "display_name": "Python 3 (ipykernel)",
   "language": "python",
   "name": "python3"
  },
  "language_info": {
   "codemirror_mode": {
    "name": "ipython",
    "version": 3
   },
   "file_extension": ".py",
   "mimetype": "text/x-python",
   "name": "python",
   "nbconvert_exporter": "python",
   "pygments_lexer": "ipython3",
   "version": "3.10.9"
  }
 },
 "nbformat": 4,
 "nbformat_minor": 5
}
